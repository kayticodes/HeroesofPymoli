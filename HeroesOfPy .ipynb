{
 "cells": [
  {
   "cell_type": "code",
   "execution_count": null,
   "metadata": {
    "scrolled": true
   },
   "outputs": [],
   "source": [
    "# HEROS OF PYMOLI DATA ANALYSIS \n",
    "#1.) Though male identifying humans dominate this gaming scene (83% of players), females that do play spend an average of 40 cents more per person that the male demographic. \n",
    "#2.) Other/ Non-Disclosed gendered groups spend 49 cents on average more than the male identifying demographic. \n",
    "#3.) The age group 35-39 have the highest average of total perchase per person ($4.76 per person on average). "
   ]
  },
  {
   "cell_type": "code",
   "execution_count": 1,
   "metadata": {
    "scrolled": true
   },
   "outputs": [
    {
     "data": {
      "text/html": [
       "<div>\n",
       "<style scoped>\n",
       "    .dataframe tbody tr th:only-of-type {\n",
       "        vertical-align: middle;\n",
       "    }\n",
       "\n",
       "    .dataframe tbody tr th {\n",
       "        vertical-align: top;\n",
       "    }\n",
       "\n",
       "    .dataframe thead th {\n",
       "        text-align: right;\n",
       "    }\n",
       "</style>\n",
       "<table border=\"1\" class=\"dataframe\">\n",
       "  <thead>\n",
       "    <tr style=\"text-align: right;\">\n",
       "      <th></th>\n",
       "      <th>Purchase ID</th>\n",
       "      <th>SN</th>\n",
       "      <th>Age</th>\n",
       "      <th>Gender</th>\n",
       "      <th>Item ID</th>\n",
       "      <th>Item Name</th>\n",
       "      <th>Price</th>\n",
       "    </tr>\n",
       "  </thead>\n",
       "  <tbody>\n",
       "    <tr>\n",
       "      <th>0</th>\n",
       "      <td>0</td>\n",
       "      <td>Lisim78</td>\n",
       "      <td>20</td>\n",
       "      <td>Male</td>\n",
       "      <td>108</td>\n",
       "      <td>Extraction, Quickblade Of Trembling Hands</td>\n",
       "      <td>3.53</td>\n",
       "    </tr>\n",
       "    <tr>\n",
       "      <th>1</th>\n",
       "      <td>1</td>\n",
       "      <td>Lisovynya38</td>\n",
       "      <td>40</td>\n",
       "      <td>Male</td>\n",
       "      <td>143</td>\n",
       "      <td>Frenzied Scimitar</td>\n",
       "      <td>1.56</td>\n",
       "    </tr>\n",
       "    <tr>\n",
       "      <th>2</th>\n",
       "      <td>2</td>\n",
       "      <td>Ithergue48</td>\n",
       "      <td>24</td>\n",
       "      <td>Male</td>\n",
       "      <td>92</td>\n",
       "      <td>Final Critic</td>\n",
       "      <td>4.88</td>\n",
       "    </tr>\n",
       "    <tr>\n",
       "      <th>3</th>\n",
       "      <td>3</td>\n",
       "      <td>Chamassasya86</td>\n",
       "      <td>24</td>\n",
       "      <td>Male</td>\n",
       "      <td>100</td>\n",
       "      <td>Blindscythe</td>\n",
       "      <td>3.27</td>\n",
       "    </tr>\n",
       "    <tr>\n",
       "      <th>4</th>\n",
       "      <td>4</td>\n",
       "      <td>Iskosia90</td>\n",
       "      <td>23</td>\n",
       "      <td>Male</td>\n",
       "      <td>131</td>\n",
       "      <td>Fury</td>\n",
       "      <td>1.44</td>\n",
       "    </tr>\n",
       "  </tbody>\n",
       "</table>\n",
       "</div>"
      ],
      "text/plain": [
       "   Purchase ID             SN  Age Gender  Item ID  \\\n",
       "0            0        Lisim78   20   Male      108   \n",
       "1            1    Lisovynya38   40   Male      143   \n",
       "2            2     Ithergue48   24   Male       92   \n",
       "3            3  Chamassasya86   24   Male      100   \n",
       "4            4      Iskosia90   23   Male      131   \n",
       "\n",
       "                                   Item Name  Price  \n",
       "0  Extraction, Quickblade Of Trembling Hands   3.53  \n",
       "1                          Frenzied Scimitar   1.56  \n",
       "2                               Final Critic   4.88  \n",
       "3                                Blindscythe   3.27  \n",
       "4                                       Fury   1.44  "
      ]
     },
     "execution_count": 1,
     "metadata": {},
     "output_type": "execute_result"
    }
   ],
   "source": [
    "# Dependencies and Setup \n",
    "import pandas as pd \n",
    "import numpy as np \n",
    "\n",
    "\n",
    "#Load csv file\n",
    "pydata = \"Resources/purchase_data.csv\"\n",
    "\n",
    "#Read Purchasing file and store into Pandas data frame\n",
    "purchase_data = pd.read_csv(pydata)\n",
    "purchase_data.head()"
   ]
  },
  {
   "cell_type": "code",
   "execution_count": 48,
   "metadata": {},
   "outputs": [
    {
     "data": {
      "text/html": [
       "<div>\n",
       "<style scoped>\n",
       "    .dataframe tbody tr th:only-of-type {\n",
       "        vertical-align: middle;\n",
       "    }\n",
       "\n",
       "    .dataframe tbody tr th {\n",
       "        vertical-align: top;\n",
       "    }\n",
       "\n",
       "    .dataframe thead th {\n",
       "        text-align: right;\n",
       "    }\n",
       "</style>\n",
       "<table border=\"1\" class=\"dataframe\">\n",
       "  <thead>\n",
       "    <tr style=\"text-align: right;\">\n",
       "      <th></th>\n",
       "      <th>Purchase ID</th>\n",
       "      <th>Age</th>\n",
       "      <th>Item ID</th>\n",
       "      <th>Price</th>\n",
       "    </tr>\n",
       "  </thead>\n",
       "  <tbody>\n",
       "    <tr>\n",
       "      <th>count</th>\n",
       "      <td>780.000000</td>\n",
       "      <td>780.000000</td>\n",
       "      <td>780.000000</td>\n",
       "      <td>780.000000</td>\n",
       "    </tr>\n",
       "    <tr>\n",
       "      <th>mean</th>\n",
       "      <td>389.500000</td>\n",
       "      <td>22.714103</td>\n",
       "      <td>92.114103</td>\n",
       "      <td>3.050987</td>\n",
       "    </tr>\n",
       "    <tr>\n",
       "      <th>std</th>\n",
       "      <td>225.310896</td>\n",
       "      <td>6.659444</td>\n",
       "      <td>52.775943</td>\n",
       "      <td>1.169549</td>\n",
       "    </tr>\n",
       "    <tr>\n",
       "      <th>min</th>\n",
       "      <td>0.000000</td>\n",
       "      <td>7.000000</td>\n",
       "      <td>0.000000</td>\n",
       "      <td>1.000000</td>\n",
       "    </tr>\n",
       "    <tr>\n",
       "      <th>25%</th>\n",
       "      <td>194.750000</td>\n",
       "      <td>20.000000</td>\n",
       "      <td>48.000000</td>\n",
       "      <td>1.980000</td>\n",
       "    </tr>\n",
       "    <tr>\n",
       "      <th>50%</th>\n",
       "      <td>389.500000</td>\n",
       "      <td>22.000000</td>\n",
       "      <td>93.000000</td>\n",
       "      <td>3.150000</td>\n",
       "    </tr>\n",
       "    <tr>\n",
       "      <th>75%</th>\n",
       "      <td>584.250000</td>\n",
       "      <td>25.000000</td>\n",
       "      <td>139.000000</td>\n",
       "      <td>4.080000</td>\n",
       "    </tr>\n",
       "    <tr>\n",
       "      <th>max</th>\n",
       "      <td>779.000000</td>\n",
       "      <td>45.000000</td>\n",
       "      <td>183.000000</td>\n",
       "      <td>4.990000</td>\n",
       "    </tr>\n",
       "  </tbody>\n",
       "</table>\n",
       "</div>"
      ],
      "text/plain": [
       "       Purchase ID         Age     Item ID       Price\n",
       "count   780.000000  780.000000  780.000000  780.000000\n",
       "mean    389.500000   22.714103   92.114103    3.050987\n",
       "std     225.310896    6.659444   52.775943    1.169549\n",
       "min       0.000000    7.000000    0.000000    1.000000\n",
       "25%     194.750000   20.000000   48.000000    1.980000\n",
       "50%     389.500000   22.000000   93.000000    3.150000\n",
       "75%     584.250000   25.000000  139.000000    4.080000\n",
       "max     779.000000   45.000000  183.000000    4.990000"
      ]
     },
     "execution_count": 48,
     "metadata": {},
     "output_type": "execute_result"
    }
   ],
   "source": [
    "purchase_data.describe()"
   ]
  },
  {
   "cell_type": "code",
   "execution_count": 2,
   "metadata": {},
   "outputs": [],
   "source": [
    "#Player Count"
   ]
  },
  {
   "cell_type": "code",
   "execution_count": 3,
   "metadata": {},
   "outputs": [
    {
     "data": {
      "text/plain": [
       "576"
      ]
     },
     "execution_count": 3,
     "metadata": {},
     "output_type": "execute_result"
    }
   ],
   "source": [
    "#establish the number of unique players \n",
    "player_count = len(purchase_data['SN'].unique())\n",
    "player_count"
   ]
  },
  {
   "cell_type": "code",
   "execution_count": 4,
   "metadata": {
    "scrolled": true
   },
   "outputs": [
    {
     "data": {
      "text/html": [
       "<div>\n",
       "<style scoped>\n",
       "    .dataframe tbody tr th:only-of-type {\n",
       "        vertical-align: middle;\n",
       "    }\n",
       "\n",
       "    .dataframe tbody tr th {\n",
       "        vertical-align: top;\n",
       "    }\n",
       "\n",
       "    .dataframe thead th {\n",
       "        text-align: right;\n",
       "    }\n",
       "</style>\n",
       "<table border=\"1\" class=\"dataframe\">\n",
       "  <thead>\n",
       "    <tr style=\"text-align: right;\">\n",
       "      <th></th>\n",
       "      <th>Total Players</th>\n",
       "    </tr>\n",
       "  </thead>\n",
       "  <tbody>\n",
       "    <tr>\n",
       "      <th>0</th>\n",
       "      <td>576</td>\n",
       "    </tr>\n",
       "  </tbody>\n",
       "</table>\n",
       "</div>"
      ],
      "text/plain": [
       "   Total Players\n",
       "0            576"
      ]
     },
     "execution_count": 4,
     "metadata": {},
     "output_type": "execute_result"
    }
   ],
   "source": [
    "# Display the total number of players in a DataFrame\n",
    "\n",
    "player_table = pd.DataFrame({\"Total Players\": [player_count]})\n",
    "player_table"
   ]
  },
  {
   "cell_type": "code",
   "execution_count": 5,
   "metadata": {},
   "outputs": [],
   "source": [
    "#Purchasing Analysis (Total)"
   ]
  },
  {
   "cell_type": "code",
   "execution_count": 6,
   "metadata": {},
   "outputs": [
    {
     "data": {
      "text/plain": [
       "183"
      ]
     },
     "execution_count": 6,
     "metadata": {},
     "output_type": "execute_result"
    }
   ],
   "source": [
    "#establish the number of unique items \n",
    "unique_items = len(purchase_data['Item ID'].unique())\n",
    "unique_items\n"
   ]
  },
  {
   "cell_type": "code",
   "execution_count": 7,
   "metadata": {},
   "outputs": [
    {
     "data": {
      "text/plain": [
       "3.050987179487176"
      ]
     },
     "execution_count": 7,
     "metadata": {},
     "output_type": "execute_result"
    }
   ],
   "source": [
    "#establish the average price of the items purchased\n",
    "AveragePrice = purchase_data['Price'].mean()\n",
    "AveragePrice \n"
   ]
  },
  {
   "cell_type": "code",
   "execution_count": 8,
   "metadata": {},
   "outputs": [
    {
     "data": {
      "text/plain": [
       "780"
      ]
     },
     "execution_count": 8,
     "metadata": {},
     "output_type": "execute_result"
    }
   ],
   "source": [
    "#establish the number of purchases \n",
    "purchase_count = len(purchase_data[\"Item Name\"])\n",
    "purchase_count"
   ]
  },
  {
   "cell_type": "code",
   "execution_count": 9,
   "metadata": {},
   "outputs": [
    {
     "data": {
      "text/plain": [
       "2379.77"
      ]
     },
     "execution_count": 9,
     "metadata": {},
     "output_type": "execute_result"
    }
   ],
   "source": [
    "#establish the total revenue of the items purchased \n",
    "total_revenue = purchase_data['Price'].sum()\n",
    "total_revenue\n"
   ]
  },
  {
   "cell_type": "code",
   "execution_count": 10,
   "metadata": {
    "scrolled": true
   },
   "outputs": [
    {
     "data": {
      "text/html": [
       "<div>\n",
       "<style scoped>\n",
       "    .dataframe tbody tr th:only-of-type {\n",
       "        vertical-align: middle;\n",
       "    }\n",
       "\n",
       "    .dataframe tbody tr th {\n",
       "        vertical-align: top;\n",
       "    }\n",
       "\n",
       "    .dataframe thead th {\n",
       "        text-align: right;\n",
       "    }\n",
       "</style>\n",
       "<table border=\"1\" class=\"dataframe\">\n",
       "  <thead>\n",
       "    <tr style=\"text-align: right;\">\n",
       "      <th></th>\n",
       "      <th>Number of Unique Items</th>\n",
       "      <th>Average Price</th>\n",
       "      <th>Number of Purchases</th>\n",
       "      <th>Total Revenue</th>\n",
       "    </tr>\n",
       "  </thead>\n",
       "  <tbody>\n",
       "    <tr>\n",
       "      <th>0</th>\n",
       "      <td>183</td>\n",
       "      <td>3.050987</td>\n",
       "      <td>780</td>\n",
       "      <td>2379.77</td>\n",
       "    </tr>\n",
       "  </tbody>\n",
       "</table>\n",
       "</div>"
      ],
      "text/plain": [
       "   Number of Unique Items  Average Price  Number of Purchases  Total Revenue\n",
       "0                     183       3.050987                  780        2379.77"
      ]
     },
     "execution_count": 10,
     "metadata": {},
     "output_type": "execute_result"
    }
   ],
   "source": [
    "# Place all of the data found into a summary DataFrame\n",
    "purchase_table = pd.DataFrame({\"Number of Unique Items\": unique_items,\n",
    "                              \"Average Price\": [AveragePrice],\n",
    "                              \"Number of Purchases\": [purchase_count],\n",
    "                              \"Total Revenue\": [total_revenue]})\n",
    "purchase_table"
   ]
  },
  {
   "cell_type": "code",
   "execution_count": 11,
   "metadata": {},
   "outputs": [],
   "source": [
    "#Gender Demographics"
   ]
  },
  {
   "cell_type": "code",
   "execution_count": 12,
   "metadata": {
    "scrolled": false
   },
   "outputs": [
    {
     "data": {
      "text/plain": [
       "array(['Male', 'Other / Non-Disclosed', 'Female'], dtype=object)"
      ]
     },
     "execution_count": 12,
     "metadata": {},
     "output_type": "execute_result"
    }
   ],
   "source": [
    "#Establish which genders are represented in this data set \n",
    "purchase_data['Gender'].unique()"
   ]
  },
  {
   "cell_type": "code",
   "execution_count": 13,
   "metadata": {
    "scrolled": true
   },
   "outputs": [
    {
     "data": {
      "text/plain": [
       "Male                     652\n",
       "Female                   113\n",
       "Other / Non-Disclosed     15\n",
       "Name: Gender, dtype: int64"
      ]
     },
     "execution_count": 13,
     "metadata": {},
     "output_type": "execute_result"
    }
   ],
   "source": [
    "#Get the count for genders represented \n",
    "gender_count = purchase_data['Gender'].value_counts()\n",
    "gender_count"
   ]
  },
  {
   "cell_type": "code",
   "execution_count": 14,
   "metadata": {},
   "outputs": [
    {
     "data": {
      "text/html": [
       "<div>\n",
       "<style scoped>\n",
       "    .dataframe tbody tr th:only-of-type {\n",
       "        vertical-align: middle;\n",
       "    }\n",
       "\n",
       "    .dataframe tbody tr th {\n",
       "        vertical-align: top;\n",
       "    }\n",
       "\n",
       "    .dataframe thead th {\n",
       "        text-align: right;\n",
       "    }\n",
       "</style>\n",
       "<table border=\"1\" class=\"dataframe\">\n",
       "  <thead>\n",
       "    <tr style=\"text-align: right;\">\n",
       "      <th></th>\n",
       "      <th>SN</th>\n",
       "    </tr>\n",
       "    <tr>\n",
       "      <th>Gender</th>\n",
       "      <th></th>\n",
       "    </tr>\n",
       "  </thead>\n",
       "  <tbody>\n",
       "    <tr>\n",
       "      <th>Female</th>\n",
       "      <td>81</td>\n",
       "    </tr>\n",
       "    <tr>\n",
       "      <th>Male</th>\n",
       "      <td>484</td>\n",
       "    </tr>\n",
       "    <tr>\n",
       "      <th>Other / Non-Disclosed</th>\n",
       "      <td>11</td>\n",
       "    </tr>\n",
       "  </tbody>\n",
       "</table>\n",
       "</div>"
      ],
      "text/plain": [
       "                        SN\n",
       "Gender                    \n",
       "Female                  81\n",
       "Male                   484\n",
       "Other / Non-Disclosed   11"
      ]
     },
     "execution_count": 14,
     "metadata": {},
     "output_type": "execute_result"
    }
   ],
   "source": [
    "#There are significantly more occurances of genders that what the HW example gives us, so we know something fishy is going on\n",
    "#It turns out we have some recurring customers but we want the unique customers to be represented \n",
    "#So we want to make sure that frequent customers are not counted towards thier identifying gender more than once \n",
    "#we will use .groupby and .nunique to acheive this\n",
    "gender_count= purchase_data.groupby('Gender')[['SN']].nunique()\n",
    "gender_count\n"
   ]
  },
  {
   "cell_type": "code",
   "execution_count": 15,
   "metadata": {
    "scrolled": true
   },
   "outputs": [
    {
     "data": {
      "text/plain": [
       "Gender\n",
       "Female                   14.062500\n",
       "Male                     84.027778\n",
       "Other / Non-Disclosed     1.909722\n",
       "Name: SN, dtype: float64"
      ]
     },
     "execution_count": 15,
     "metadata": {},
     "output_type": "execute_result"
    }
   ],
   "source": [
    "#Now we also want to include the percentage for each gender (gender/total genders*100)\n",
    "gender_percent = 100* gender_count['SN']/gender_count['SN'].sum()\n",
    "gender_percent"
   ]
  },
  {
   "cell_type": "code",
   "execution_count": 16,
   "metadata": {
    "scrolled": false
   },
   "outputs": [
    {
     "data": {
      "text/html": [
       "<div>\n",
       "<style scoped>\n",
       "    .dataframe tbody tr th:only-of-type {\n",
       "        vertical-align: middle;\n",
       "    }\n",
       "\n",
       "    .dataframe tbody tr th {\n",
       "        vertical-align: top;\n",
       "    }\n",
       "\n",
       "    .dataframe thead th {\n",
       "        text-align: right;\n",
       "    }\n",
       "</style>\n",
       "<table border=\"1\" class=\"dataframe\">\n",
       "  <thead>\n",
       "    <tr style=\"text-align: right;\">\n",
       "      <th></th>\n",
       "      <th>Gender</th>\n",
       "      <th>Percentage of Players</th>\n",
       "      <th>Total Count</th>\n",
       "    </tr>\n",
       "  </thead>\n",
       "  <tbody>\n",
       "    <tr>\n",
       "      <th>0</th>\n",
       "      <td>Male</td>\n",
       "      <td>84.03</td>\n",
       "      <td>484</td>\n",
       "    </tr>\n",
       "    <tr>\n",
       "      <th>1</th>\n",
       "      <td>Female</td>\n",
       "      <td>14.06</td>\n",
       "      <td>81</td>\n",
       "    </tr>\n",
       "    <tr>\n",
       "      <th>2</th>\n",
       "      <td>Other/Non-Disclosed</td>\n",
       "      <td>1.91</td>\n",
       "      <td>11</td>\n",
       "    </tr>\n",
       "  </tbody>\n",
       "</table>\n",
       "</div>"
      ],
      "text/plain": [
       "                Gender  Percentage of Players  Total Count\n",
       "0                 Male                  84.03          484\n",
       "1               Female                  14.06           81\n",
       "2  Other/Non-Disclosed                   1.91           11"
      ]
     },
     "execution_count": 16,
     "metadata": {},
     "output_type": "execute_result"
    }
   ],
   "source": [
    "#Create a DataFrame to display the gathered information\n",
    "GenderDemo_df=pd.DataFrame([\n",
    "    {'Gender':'Male', 'Total Count':484, 'Percentage of Players':84.03},\n",
    "    {'Gender':'Female', 'Total Count':81, 'Percentage of Players':14.06},\n",
    "    {'Gender':'Other/Non-Disclosed', 'Total Count':11, 'Percentage of Players':1.91}\n",
    "])\n",
    "GenderDemo_df"
   ]
  },
  {
   "cell_type": "code",
   "execution_count": 17,
   "metadata": {},
   "outputs": [],
   "source": [
    "#Purchasing Analysis (Gender)"
   ]
  },
  {
   "cell_type": "code",
   "execution_count": 18,
   "metadata": {},
   "outputs": [
    {
     "data": {
      "text/html": [
       "<div>\n",
       "<style scoped>\n",
       "    .dataframe tbody tr th:only-of-type {\n",
       "        vertical-align: middle;\n",
       "    }\n",
       "\n",
       "    .dataframe tbody tr th {\n",
       "        vertical-align: top;\n",
       "    }\n",
       "\n",
       "    .dataframe thead th {\n",
       "        text-align: right;\n",
       "    }\n",
       "</style>\n",
       "<table border=\"1\" class=\"dataframe\">\n",
       "  <thead>\n",
       "    <tr style=\"text-align: right;\">\n",
       "      <th></th>\n",
       "      <th>Purchase ID</th>\n",
       "      <th>SN</th>\n",
       "      <th>Age</th>\n",
       "      <th>Gender</th>\n",
       "      <th>Item ID</th>\n",
       "      <th>Item Name</th>\n",
       "      <th>Price</th>\n",
       "    </tr>\n",
       "  </thead>\n",
       "  <tbody>\n",
       "    <tr>\n",
       "      <th>15</th>\n",
       "      <td>15</td>\n",
       "      <td>Lisassa64</td>\n",
       "      <td>21</td>\n",
       "      <td>Female</td>\n",
       "      <td>98</td>\n",
       "      <td>Deadline, Voice Of Subtlety</td>\n",
       "      <td>2.89</td>\n",
       "    </tr>\n",
       "    <tr>\n",
       "      <th>18</th>\n",
       "      <td>18</td>\n",
       "      <td>Reunasu60</td>\n",
       "      <td>22</td>\n",
       "      <td>Female</td>\n",
       "      <td>82</td>\n",
       "      <td>Nirvana</td>\n",
       "      <td>4.90</td>\n",
       "    </tr>\n",
       "    <tr>\n",
       "      <th>38</th>\n",
       "      <td>38</td>\n",
       "      <td>Reulae52</td>\n",
       "      <td>10</td>\n",
       "      <td>Female</td>\n",
       "      <td>116</td>\n",
       "      <td>Renewed Skeletal Katana</td>\n",
       "      <td>4.18</td>\n",
       "    </tr>\n",
       "    <tr>\n",
       "      <th>41</th>\n",
       "      <td>41</td>\n",
       "      <td>Assosia88</td>\n",
       "      <td>20</td>\n",
       "      <td>Female</td>\n",
       "      <td>7</td>\n",
       "      <td>Thorn, Satchel of Dark Souls</td>\n",
       "      <td>1.33</td>\n",
       "    </tr>\n",
       "    <tr>\n",
       "      <th>55</th>\n",
       "      <td>55</td>\n",
       "      <td>Phaelap26</td>\n",
       "      <td>25</td>\n",
       "      <td>Female</td>\n",
       "      <td>84</td>\n",
       "      <td>Arcane Gem</td>\n",
       "      <td>3.79</td>\n",
       "    </tr>\n",
       "  </tbody>\n",
       "</table>\n",
       "</div>"
      ],
      "text/plain": [
       "    Purchase ID         SN  Age  Gender  Item ID  \\\n",
       "15           15  Lisassa64   21  Female       98   \n",
       "18           18  Reunasu60   22  Female       82   \n",
       "38           38   Reulae52   10  Female      116   \n",
       "41           41  Assosia88   20  Female        7   \n",
       "55           55  Phaelap26   25  Female       84   \n",
       "\n",
       "                       Item Name  Price  \n",
       "15   Deadline, Voice Of Subtlety   2.89  \n",
       "18                       Nirvana   4.90  \n",
       "38       Renewed Skeletal Katana   4.18  \n",
       "41  Thorn, Satchel of Dark Souls   1.33  \n",
       "55                    Arcane Gem   3.79  "
      ]
     },
     "execution_count": 18,
     "metadata": {},
     "output_type": "execute_result"
    }
   ],
   "source": [
    " # Looking only at Female purchases \n",
    "fem_df = purchase_data.loc[purchase_data[\"Gender\"] == \"Female\", :]\n",
    "fem_df.head()"
   ]
  },
  {
   "cell_type": "code",
   "execution_count": 19,
   "metadata": {},
   "outputs": [
    {
     "data": {
      "text/html": [
       "<div>\n",
       "<style scoped>\n",
       "    .dataframe tbody tr th:only-of-type {\n",
       "        vertical-align: middle;\n",
       "    }\n",
       "\n",
       "    .dataframe tbody tr th {\n",
       "        vertical-align: top;\n",
       "    }\n",
       "\n",
       "    .dataframe thead th {\n",
       "        text-align: right;\n",
       "    }\n",
       "</style>\n",
       "<table border=\"1\" class=\"dataframe\">\n",
       "  <thead>\n",
       "    <tr style=\"text-align: right;\">\n",
       "      <th></th>\n",
       "      <th>Purchase ID</th>\n",
       "      <th>Age</th>\n",
       "      <th>Item ID</th>\n",
       "      <th>Price</th>\n",
       "    </tr>\n",
       "  </thead>\n",
       "  <tbody>\n",
       "    <tr>\n",
       "      <th>count</th>\n",
       "      <td>113.000000</td>\n",
       "      <td>113.000000</td>\n",
       "      <td>113.000000</td>\n",
       "      <td>113.000000</td>\n",
       "    </tr>\n",
       "    <tr>\n",
       "      <th>mean</th>\n",
       "      <td>379.380531</td>\n",
       "      <td>21.345133</td>\n",
       "      <td>85.477876</td>\n",
       "      <td>3.203009</td>\n",
       "    </tr>\n",
       "    <tr>\n",
       "      <th>std</th>\n",
       "      <td>211.605484</td>\n",
       "      <td>6.097086</td>\n",
       "      <td>53.264183</td>\n",
       "      <td>1.158194</td>\n",
       "    </tr>\n",
       "    <tr>\n",
       "      <th>min</th>\n",
       "      <td>15.000000</td>\n",
       "      <td>7.000000</td>\n",
       "      <td>1.000000</td>\n",
       "      <td>1.000000</td>\n",
       "    </tr>\n",
       "    <tr>\n",
       "      <th>25%</th>\n",
       "      <td>199.000000</td>\n",
       "      <td>18.000000</td>\n",
       "      <td>39.000000</td>\n",
       "      <td>2.280000</td>\n",
       "    </tr>\n",
       "    <tr>\n",
       "      <th>50%</th>\n",
       "      <td>392.000000</td>\n",
       "      <td>21.000000</td>\n",
       "      <td>82.000000</td>\n",
       "      <td>3.450000</td>\n",
       "    </tr>\n",
       "    <tr>\n",
       "      <th>75%</th>\n",
       "      <td>558.000000</td>\n",
       "      <td>24.000000</td>\n",
       "      <td>129.000000</td>\n",
       "      <td>4.230000</td>\n",
       "    </tr>\n",
       "    <tr>\n",
       "      <th>max</th>\n",
       "      <td>775.000000</td>\n",
       "      <td>40.000000</td>\n",
       "      <td>183.000000</td>\n",
       "      <td>4.900000</td>\n",
       "    </tr>\n",
       "  </tbody>\n",
       "</table>\n",
       "</div>"
      ],
      "text/plain": [
       "       Purchase ID         Age     Item ID       Price\n",
       "count   113.000000  113.000000  113.000000  113.000000\n",
       "mean    379.380531   21.345133   85.477876    3.203009\n",
       "std     211.605484    6.097086   53.264183    1.158194\n",
       "min      15.000000    7.000000    1.000000    1.000000\n",
       "25%     199.000000   18.000000   39.000000    2.280000\n",
       "50%     392.000000   21.000000   82.000000    3.450000\n",
       "75%     558.000000   24.000000  129.000000    4.230000\n",
       "max     775.000000   40.000000  183.000000    4.900000"
      ]
     },
     "execution_count": 19,
     "metadata": {},
     "output_type": "execute_result"
    }
   ],
   "source": [
    "fem_df.describe()"
   ]
  },
  {
   "cell_type": "code",
   "execution_count": 20,
   "metadata": {},
   "outputs": [
    {
     "data": {
      "text/plain": [
       "361.94"
      ]
     },
     "execution_count": 20,
     "metadata": {},
     "output_type": "execute_result"
    }
   ],
   "source": [
    "#obtain total purchase value \n",
    "fem_df['Price'].sum()\n"
   ]
  },
  {
   "cell_type": "code",
   "execution_count": 21,
   "metadata": {},
   "outputs": [
    {
     "data": {
      "text/plain": [
       "4.468395061728395"
      ]
     },
     "execution_count": 21,
     "metadata": {},
     "output_type": "execute_result"
    }
   ],
   "source": [
    "#Average per female identifying person \n",
    "361.94/81"
   ]
  },
  {
   "cell_type": "code",
   "execution_count": 22,
   "metadata": {},
   "outputs": [
    {
     "data": {
      "text/html": [
       "<div>\n",
       "<style scoped>\n",
       "    .dataframe tbody tr th:only-of-type {\n",
       "        vertical-align: middle;\n",
       "    }\n",
       "\n",
       "    .dataframe tbody tr th {\n",
       "        vertical-align: top;\n",
       "    }\n",
       "\n",
       "    .dataframe thead th {\n",
       "        text-align: right;\n",
       "    }\n",
       "</style>\n",
       "<table border=\"1\" class=\"dataframe\">\n",
       "  <thead>\n",
       "    <tr style=\"text-align: right;\">\n",
       "      <th></th>\n",
       "      <th>Purchase ID</th>\n",
       "      <th>SN</th>\n",
       "      <th>Age</th>\n",
       "      <th>Gender</th>\n",
       "      <th>Item ID</th>\n",
       "      <th>Item Name</th>\n",
       "      <th>Price</th>\n",
       "    </tr>\n",
       "  </thead>\n",
       "  <tbody>\n",
       "    <tr>\n",
       "      <th>0</th>\n",
       "      <td>0</td>\n",
       "      <td>Lisim78</td>\n",
       "      <td>20</td>\n",
       "      <td>Male</td>\n",
       "      <td>108</td>\n",
       "      <td>Extraction, Quickblade Of Trembling Hands</td>\n",
       "      <td>3.53</td>\n",
       "    </tr>\n",
       "    <tr>\n",
       "      <th>1</th>\n",
       "      <td>1</td>\n",
       "      <td>Lisovynya38</td>\n",
       "      <td>40</td>\n",
       "      <td>Male</td>\n",
       "      <td>143</td>\n",
       "      <td>Frenzied Scimitar</td>\n",
       "      <td>1.56</td>\n",
       "    </tr>\n",
       "    <tr>\n",
       "      <th>2</th>\n",
       "      <td>2</td>\n",
       "      <td>Ithergue48</td>\n",
       "      <td>24</td>\n",
       "      <td>Male</td>\n",
       "      <td>92</td>\n",
       "      <td>Final Critic</td>\n",
       "      <td>4.88</td>\n",
       "    </tr>\n",
       "    <tr>\n",
       "      <th>3</th>\n",
       "      <td>3</td>\n",
       "      <td>Chamassasya86</td>\n",
       "      <td>24</td>\n",
       "      <td>Male</td>\n",
       "      <td>100</td>\n",
       "      <td>Blindscythe</td>\n",
       "      <td>3.27</td>\n",
       "    </tr>\n",
       "    <tr>\n",
       "      <th>4</th>\n",
       "      <td>4</td>\n",
       "      <td>Iskosia90</td>\n",
       "      <td>23</td>\n",
       "      <td>Male</td>\n",
       "      <td>131</td>\n",
       "      <td>Fury</td>\n",
       "      <td>1.44</td>\n",
       "    </tr>\n",
       "  </tbody>\n",
       "</table>\n",
       "</div>"
      ],
      "text/plain": [
       "   Purchase ID             SN  Age Gender  Item ID  \\\n",
       "0            0        Lisim78   20   Male      108   \n",
       "1            1    Lisovynya38   40   Male      143   \n",
       "2            2     Ithergue48   24   Male       92   \n",
       "3            3  Chamassasya86   24   Male      100   \n",
       "4            4      Iskosia90   23   Male      131   \n",
       "\n",
       "                                   Item Name  Price  \n",
       "0  Extraction, Quickblade Of Trembling Hands   3.53  \n",
       "1                          Frenzied Scimitar   1.56  \n",
       "2                               Final Critic   4.88  \n",
       "3                                Blindscythe   3.27  \n",
       "4                                       Fury   1.44  "
      ]
     },
     "execution_count": 22,
     "metadata": {},
     "output_type": "execute_result"
    }
   ],
   "source": [
    " # Looking only at Male purchases \n",
    "male_df = purchase_data.loc[purchase_data[\"Gender\"] == \"Male\", :]\n",
    "male_df.head()\n"
   ]
  },
  {
   "cell_type": "code",
   "execution_count": 23,
   "metadata": {
    "scrolled": true
   },
   "outputs": [
    {
     "data": {
      "text/html": [
       "<div>\n",
       "<style scoped>\n",
       "    .dataframe tbody tr th:only-of-type {\n",
       "        vertical-align: middle;\n",
       "    }\n",
       "\n",
       "    .dataframe tbody tr th {\n",
       "        vertical-align: top;\n",
       "    }\n",
       "\n",
       "    .dataframe thead th {\n",
       "        text-align: right;\n",
       "    }\n",
       "</style>\n",
       "<table border=\"1\" class=\"dataframe\">\n",
       "  <thead>\n",
       "    <tr style=\"text-align: right;\">\n",
       "      <th></th>\n",
       "      <th>Purchase ID</th>\n",
       "      <th>Age</th>\n",
       "      <th>Item ID</th>\n",
       "      <th>Price</th>\n",
       "    </tr>\n",
       "  </thead>\n",
       "  <tbody>\n",
       "    <tr>\n",
       "      <th>count</th>\n",
       "      <td>652.000000</td>\n",
       "      <td>652.000000</td>\n",
       "      <td>652.000000</td>\n",
       "      <td>652.000000</td>\n",
       "    </tr>\n",
       "    <tr>\n",
       "      <th>mean</th>\n",
       "      <td>392.516871</td>\n",
       "      <td>22.917178</td>\n",
       "      <td>93.524540</td>\n",
       "      <td>3.017853</td>\n",
       "    </tr>\n",
       "    <tr>\n",
       "      <th>std</th>\n",
       "      <td>227.516414</td>\n",
       "      <td>6.689232</td>\n",
       "      <td>52.590856</td>\n",
       "      <td>1.175625</td>\n",
       "    </tr>\n",
       "    <tr>\n",
       "      <th>min</th>\n",
       "      <td>0.000000</td>\n",
       "      <td>7.000000</td>\n",
       "      <td>0.000000</td>\n",
       "      <td>1.000000</td>\n",
       "    </tr>\n",
       "    <tr>\n",
       "      <th>25%</th>\n",
       "      <td>193.750000</td>\n",
       "      <td>20.000000</td>\n",
       "      <td>52.000000</td>\n",
       "      <td>1.962500</td>\n",
       "    </tr>\n",
       "    <tr>\n",
       "      <th>50%</th>\n",
       "      <td>390.500000</td>\n",
       "      <td>22.000000</td>\n",
       "      <td>95.500000</td>\n",
       "      <td>3.090000</td>\n",
       "    </tr>\n",
       "    <tr>\n",
       "      <th>75%</th>\n",
       "      <td>592.250000</td>\n",
       "      <td>25.000000</td>\n",
       "      <td>141.000000</td>\n",
       "      <td>4.080000</td>\n",
       "    </tr>\n",
       "    <tr>\n",
       "      <th>max</th>\n",
       "      <td>779.000000</td>\n",
       "      <td>45.000000</td>\n",
       "      <td>183.000000</td>\n",
       "      <td>4.990000</td>\n",
       "    </tr>\n",
       "  </tbody>\n",
       "</table>\n",
       "</div>"
      ],
      "text/plain": [
       "       Purchase ID         Age     Item ID       Price\n",
       "count   652.000000  652.000000  652.000000  652.000000\n",
       "mean    392.516871   22.917178   93.524540    3.017853\n",
       "std     227.516414    6.689232   52.590856    1.175625\n",
       "min       0.000000    7.000000    0.000000    1.000000\n",
       "25%     193.750000   20.000000   52.000000    1.962500\n",
       "50%     390.500000   22.000000   95.500000    3.090000\n",
       "75%     592.250000   25.000000  141.000000    4.080000\n",
       "max     779.000000   45.000000  183.000000    4.990000"
      ]
     },
     "execution_count": 23,
     "metadata": {},
     "output_type": "execute_result"
    }
   ],
   "source": [
    "male_df.describe()\n"
   ]
  },
  {
   "cell_type": "code",
   "execution_count": 24,
   "metadata": {},
   "outputs": [
    {
     "data": {
      "text/plain": [
       "1967.64"
      ]
     },
     "execution_count": 24,
     "metadata": {},
     "output_type": "execute_result"
    }
   ],
   "source": [
    "#obtain total purchase value \n",
    "male_df['Price'].sum()"
   ]
  },
  {
   "cell_type": "code",
   "execution_count": 25,
   "metadata": {},
   "outputs": [
    {
     "data": {
      "text/plain": [
       "4.065371900826446"
      ]
     },
     "execution_count": 25,
     "metadata": {},
     "output_type": "execute_result"
    }
   ],
   "source": [
    "#Average per male identifying person \n",
    "1967.64/484\n"
   ]
  },
  {
   "cell_type": "code",
   "execution_count": 26,
   "metadata": {},
   "outputs": [
    {
     "data": {
      "text/html": [
       "<div>\n",
       "<style scoped>\n",
       "    .dataframe tbody tr th:only-of-type {\n",
       "        vertical-align: middle;\n",
       "    }\n",
       "\n",
       "    .dataframe tbody tr th {\n",
       "        vertical-align: top;\n",
       "    }\n",
       "\n",
       "    .dataframe thead th {\n",
       "        text-align: right;\n",
       "    }\n",
       "</style>\n",
       "<table border=\"1\" class=\"dataframe\">\n",
       "  <thead>\n",
       "    <tr style=\"text-align: right;\">\n",
       "      <th></th>\n",
       "      <th>Purchase ID</th>\n",
       "      <th>SN</th>\n",
       "      <th>Age</th>\n",
       "      <th>Gender</th>\n",
       "      <th>Item ID</th>\n",
       "      <th>Item Name</th>\n",
       "      <th>Price</th>\n",
       "    </tr>\n",
       "  </thead>\n",
       "  <tbody>\n",
       "    <tr>\n",
       "      <th>9</th>\n",
       "      <td>9</td>\n",
       "      <td>Chanosian48</td>\n",
       "      <td>35</td>\n",
       "      <td>Other / Non-Disclosed</td>\n",
       "      <td>136</td>\n",
       "      <td>Ghastly Adamantite Protector</td>\n",
       "      <td>3.58</td>\n",
       "    </tr>\n",
       "    <tr>\n",
       "      <th>22</th>\n",
       "      <td>22</td>\n",
       "      <td>Siarithria38</td>\n",
       "      <td>38</td>\n",
       "      <td>Other / Non-Disclosed</td>\n",
       "      <td>24</td>\n",
       "      <td>Warped Fetish</td>\n",
       "      <td>3.81</td>\n",
       "    </tr>\n",
       "    <tr>\n",
       "      <th>82</th>\n",
       "      <td>82</td>\n",
       "      <td>Haerithp41</td>\n",
       "      <td>16</td>\n",
       "      <td>Other / Non-Disclosed</td>\n",
       "      <td>160</td>\n",
       "      <td>Azurewrath</td>\n",
       "      <td>4.40</td>\n",
       "    </tr>\n",
       "    <tr>\n",
       "      <th>111</th>\n",
       "      <td>111</td>\n",
       "      <td>Sundim98</td>\n",
       "      <td>21</td>\n",
       "      <td>Other / Non-Disclosed</td>\n",
       "      <td>41</td>\n",
       "      <td>Orbit</td>\n",
       "      <td>4.75</td>\n",
       "    </tr>\n",
       "    <tr>\n",
       "      <th>228</th>\n",
       "      <td>228</td>\n",
       "      <td>Jiskirran77</td>\n",
       "      <td>20</td>\n",
       "      <td>Other / Non-Disclosed</td>\n",
       "      <td>80</td>\n",
       "      <td>Dreamsong</td>\n",
       "      <td>3.39</td>\n",
       "    </tr>\n",
       "  </tbody>\n",
       "</table>\n",
       "</div>"
      ],
      "text/plain": [
       "     Purchase ID            SN  Age                 Gender  Item ID  \\\n",
       "9              9   Chanosian48   35  Other / Non-Disclosed      136   \n",
       "22            22  Siarithria38   38  Other / Non-Disclosed       24   \n",
       "82            82    Haerithp41   16  Other / Non-Disclosed      160   \n",
       "111          111      Sundim98   21  Other / Non-Disclosed       41   \n",
       "228          228   Jiskirran77   20  Other / Non-Disclosed       80   \n",
       "\n",
       "                        Item Name  Price  \n",
       "9    Ghastly Adamantite Protector   3.58  \n",
       "22                  Warped Fetish   3.81  \n",
       "82                     Azurewrath   4.40  \n",
       "111                         Orbit   4.75  \n",
       "228                     Dreamsong   3.39  "
      ]
     },
     "execution_count": 26,
     "metadata": {},
     "output_type": "execute_result"
    }
   ],
   "source": [
    " # Looking only at Other/non-disclosed purchases \n",
    "ND_df = purchase_data.loc[purchase_data[\"Gender\"] == \"Other / Non-Disclosed\", :]\n",
    "ND_df.head()"
   ]
  },
  {
   "cell_type": "code",
   "execution_count": 27,
   "metadata": {},
   "outputs": [
    {
     "data": {
      "text/plain": [
       "50.19"
      ]
     },
     "execution_count": 27,
     "metadata": {},
     "output_type": "execute_result"
    }
   ],
   "source": [
    "#obtain total purchase value \n",
    "ND_df['Price'].sum()"
   ]
  },
  {
   "cell_type": "code",
   "execution_count": 28,
   "metadata": {},
   "outputs": [
    {
     "data": {
      "text/plain": [
       "4.5627272727272725"
      ]
     },
     "execution_count": 28,
     "metadata": {},
     "output_type": "execute_result"
    }
   ],
   "source": [
    "#Average per ND person \n",
    "50.19/11"
   ]
  },
  {
   "cell_type": "code",
   "execution_count": 29,
   "metadata": {
    "scrolled": true
   },
   "outputs": [
    {
     "data": {
      "text/html": [
       "<div>\n",
       "<style scoped>\n",
       "    .dataframe tbody tr th:only-of-type {\n",
       "        vertical-align: middle;\n",
       "    }\n",
       "\n",
       "    .dataframe tbody tr th {\n",
       "        vertical-align: top;\n",
       "    }\n",
       "\n",
       "    .dataframe thead th {\n",
       "        text-align: right;\n",
       "    }\n",
       "</style>\n",
       "<table border=\"1\" class=\"dataframe\">\n",
       "  <thead>\n",
       "    <tr style=\"text-align: right;\">\n",
       "      <th></th>\n",
       "      <th>Gender</th>\n",
       "      <th>Purchase Count</th>\n",
       "      <th>Average Purchase Price</th>\n",
       "      <th>Total Purchase Value</th>\n",
       "      <th>Average Total Purchase per Person</th>\n",
       "    </tr>\n",
       "  </thead>\n",
       "  <tbody>\n",
       "    <tr>\n",
       "      <th>0</th>\n",
       "      <td>Male</td>\n",
       "      <td>652</td>\n",
       "      <td>$3.02</td>\n",
       "      <td>$1,967.64</td>\n",
       "      <td>$4.07</td>\n",
       "    </tr>\n",
       "    <tr>\n",
       "      <th>1</th>\n",
       "      <td>Female</td>\n",
       "      <td>113</td>\n",
       "      <td>$3.20</td>\n",
       "      <td>$361.94</td>\n",
       "      <td>$4.47</td>\n",
       "    </tr>\n",
       "    <tr>\n",
       "      <th>2</th>\n",
       "      <td>Other/Non-Disclosed</td>\n",
       "      <td>15</td>\n",
       "      <td>$3.35</td>\n",
       "      <td>$50.19</td>\n",
       "      <td>$4.56</td>\n",
       "    </tr>\n",
       "  </tbody>\n",
       "</table>\n",
       "</div>"
      ],
      "text/plain": [
       "                Gender  Purchase Count Average Purchase Price  \\\n",
       "0                 Male             652                  $3.02   \n",
       "1               Female             113                  $3.20   \n",
       "2  Other/Non-Disclosed              15                  $3.35   \n",
       "\n",
       "  Total Purchase Value Average Total Purchase per Person  \n",
       "0            $1,967.64                             $4.07  \n",
       "1              $361.94                             $4.47  \n",
       "2               $50.19                             $4.56  "
      ]
     },
     "execution_count": 29,
     "metadata": {},
     "output_type": "execute_result"
    }
   ],
   "source": [
    "GenderPurchase_df = pd.DataFrame({\n",
    "    \"Gender\": [\"Male\", \"Female\", \"Other/Non-Disclosed\"],\n",
    "    \"Purchase Count\": [652, 113, 15],\n",
    "    \"Average Purchase Price\": ['$3.02', '$3.20','$3.35'],\n",
    "    \"Total Purchase Value\": ['$1,967.64', '$361.94','$50.19'],\n",
    "    \"Average Total Purchase per Person\":['$4.07','$4.47','$4.56']\n",
    "})\n",
    "GenderPurchase_df"
   ]
  },
  {
   "cell_type": "code",
   "execution_count": 30,
   "metadata": {},
   "outputs": [],
   "source": [
    "#Age Demographics"
   ]
  },
  {
   "cell_type": "code",
   "execution_count": 31,
   "metadata": {},
   "outputs": [
    {
     "data": {
      "text/html": [
       "<style  type=\"text/css\" >\n",
       "</style>  \n",
       "<table id=\"T_6e1b927e_4b69_11e9_8f22_2816a85c32e4\" > \n",
       "<thead>    <tr> \n",
       "        <th class=\"col_heading level0 col0\" >Age Group</th> \n",
       "        <th class=\"col_heading level0 col1\" >Player Count</th> \n",
       "        <th class=\"col_heading level0 col2\" >Percentage of Players</th> \n",
       "    </tr></thead> \n",
       "<tbody>    <tr> \n",
       "        <td id=\"T_6e1b927e_4b69_11e9_8f22_2816a85c32e4row0_col0\" class=\"data row0 col0\" ><10</td> \n",
       "        <td id=\"T_6e1b927e_4b69_11e9_8f22_2816a85c32e4row0_col1\" class=\"data row0 col1\" >17</td> \n",
       "        <td id=\"T_6e1b927e_4b69_11e9_8f22_2816a85c32e4row0_col2\" class=\"data row0 col2\" >2.95</td> \n",
       "    </tr>    <tr> \n",
       "        <td id=\"T_6e1b927e_4b69_11e9_8f22_2816a85c32e4row1_col0\" class=\"data row1 col0\" >10-14</td> \n",
       "        <td id=\"T_6e1b927e_4b69_11e9_8f22_2816a85c32e4row1_col1\" class=\"data row1 col1\" >22</td> \n",
       "        <td id=\"T_6e1b927e_4b69_11e9_8f22_2816a85c32e4row1_col2\" class=\"data row1 col2\" >3.82</td> \n",
       "    </tr>    <tr> \n",
       "        <td id=\"T_6e1b927e_4b69_11e9_8f22_2816a85c32e4row2_col0\" class=\"data row2 col0\" >15-19</td> \n",
       "        <td id=\"T_6e1b927e_4b69_11e9_8f22_2816a85c32e4row2_col1\" class=\"data row2 col1\" >107</td> \n",
       "        <td id=\"T_6e1b927e_4b69_11e9_8f22_2816a85c32e4row2_col2\" class=\"data row2 col2\" >18.58</td> \n",
       "    </tr>    <tr> \n",
       "        <td id=\"T_6e1b927e_4b69_11e9_8f22_2816a85c32e4row3_col0\" class=\"data row3 col0\" >20-24</td> \n",
       "        <td id=\"T_6e1b927e_4b69_11e9_8f22_2816a85c32e4row3_col1\" class=\"data row3 col1\" >258</td> \n",
       "        <td id=\"T_6e1b927e_4b69_11e9_8f22_2816a85c32e4row3_col2\" class=\"data row3 col2\" >44.79</td> \n",
       "    </tr>    <tr> \n",
       "        <td id=\"T_6e1b927e_4b69_11e9_8f22_2816a85c32e4row4_col0\" class=\"data row4 col0\" >25-29</td> \n",
       "        <td id=\"T_6e1b927e_4b69_11e9_8f22_2816a85c32e4row4_col1\" class=\"data row4 col1\" >77</td> \n",
       "        <td id=\"T_6e1b927e_4b69_11e9_8f22_2816a85c32e4row4_col2\" class=\"data row4 col2\" >13.37</td> \n",
       "    </tr>    <tr> \n",
       "        <td id=\"T_6e1b927e_4b69_11e9_8f22_2816a85c32e4row5_col0\" class=\"data row5 col0\" >30-34</td> \n",
       "        <td id=\"T_6e1b927e_4b69_11e9_8f22_2816a85c32e4row5_col1\" class=\"data row5 col1\" >52</td> \n",
       "        <td id=\"T_6e1b927e_4b69_11e9_8f22_2816a85c32e4row5_col2\" class=\"data row5 col2\" >9.03</td> \n",
       "    </tr>    <tr> \n",
       "        <td id=\"T_6e1b927e_4b69_11e9_8f22_2816a85c32e4row6_col0\" class=\"data row6 col0\" >35-39</td> \n",
       "        <td id=\"T_6e1b927e_4b69_11e9_8f22_2816a85c32e4row6_col1\" class=\"data row6 col1\" >31</td> \n",
       "        <td id=\"T_6e1b927e_4b69_11e9_8f22_2816a85c32e4row6_col2\" class=\"data row6 col2\" >5.38</td> \n",
       "    </tr>    <tr> \n",
       "        <td id=\"T_6e1b927e_4b69_11e9_8f22_2816a85c32e4row7_col0\" class=\"data row7 col0\" >40+</td> \n",
       "        <td id=\"T_6e1b927e_4b69_11e9_8f22_2816a85c32e4row7_col1\" class=\"data row7 col1\" >12</td> \n",
       "        <td id=\"T_6e1b927e_4b69_11e9_8f22_2816a85c32e4row7_col2\" class=\"data row7 col2\" >2.08</td> \n",
       "    </tr></tbody> \n",
       "</table> "
      ],
      "text/plain": [
       "<pandas.io.formats.style.Styler at 0x1faf957b6a0>"
      ]
     },
     "execution_count": 31,
     "metadata": {},
     "output_type": "execute_result"
    }
   ],
   "source": [
    "#Create Bins for ages (we're binning at life, we're binning)\n",
    "bins = [0,9,14,19,24,29,34,39,50]\n",
    "group_names = ['<10','10-14','15-19','20-24','25-29','30-34','35-39','40+']\n",
    "\n",
    "# Create age groups designation and append to DataFrame\n",
    "purchase_data['Age Group'] = pd.cut(purchase_data.Age, bins, labels=group_names)\n",
    "\n",
    "# Create groupby with age groups \n",
    "age_count = purchase_data.groupby('Age Group')[['SN']].nunique().reset_index()\n",
    "\n",
    "# Glean the percentage data \n",
    "age_count['Percentage of Players'] = 100 * age_count['SN'] / age_count['SN'].sum()\n",
    "\n",
    "# Format and display the collected data \n",
    "age_count = age_count.rename(columns={'SN':'Player Count'})\n",
    "age_count['Percentage of Players'] = age_count['Percentage of Players'].map('{:.2f}'.format)\n",
    "age_count.style.hide_index()\n",
    "\n"
   ]
  },
  {
   "cell_type": "code",
   "execution_count": 32,
   "metadata": {},
   "outputs": [],
   "source": [
    "#Purchasing Analysis (Age)"
   ]
  },
  {
   "cell_type": "code",
   "execution_count": 33,
   "metadata": {},
   "outputs": [
    {
     "data": {
      "text/html": [
       "<div>\n",
       "<style scoped>\n",
       "    .dataframe tbody tr th:only-of-type {\n",
       "        vertical-align: middle;\n",
       "    }\n",
       "\n",
       "    .dataframe tbody tr th {\n",
       "        vertical-align: top;\n",
       "    }\n",
       "\n",
       "    .dataframe thead th {\n",
       "        text-align: right;\n",
       "    }\n",
       "</style>\n",
       "<table border=\"1\" class=\"dataframe\">\n",
       "  <thead>\n",
       "    <tr style=\"text-align: right;\">\n",
       "      <th></th>\n",
       "      <th>Purchase ID</th>\n",
       "      <th>SN</th>\n",
       "      <th>Age</th>\n",
       "      <th>Gender</th>\n",
       "      <th>Item ID</th>\n",
       "      <th>Item Name</th>\n",
       "      <th>Price</th>\n",
       "      <th>Age Group</th>\n",
       "    </tr>\n",
       "  </thead>\n",
       "  <tbody>\n",
       "    <tr>\n",
       "      <th>0</th>\n",
       "      <td>0</td>\n",
       "      <td>Lisim78</td>\n",
       "      <td>20</td>\n",
       "      <td>Male</td>\n",
       "      <td>108</td>\n",
       "      <td>Extraction, Quickblade Of Trembling Hands</td>\n",
       "      <td>3.53</td>\n",
       "      <td>20-24</td>\n",
       "    </tr>\n",
       "    <tr>\n",
       "      <th>1</th>\n",
       "      <td>1</td>\n",
       "      <td>Lisovynya38</td>\n",
       "      <td>40</td>\n",
       "      <td>Male</td>\n",
       "      <td>143</td>\n",
       "      <td>Frenzied Scimitar</td>\n",
       "      <td>1.56</td>\n",
       "      <td>40+</td>\n",
       "    </tr>\n",
       "    <tr>\n",
       "      <th>2</th>\n",
       "      <td>2</td>\n",
       "      <td>Ithergue48</td>\n",
       "      <td>24</td>\n",
       "      <td>Male</td>\n",
       "      <td>92</td>\n",
       "      <td>Final Critic</td>\n",
       "      <td>4.88</td>\n",
       "      <td>20-24</td>\n",
       "    </tr>\n",
       "    <tr>\n",
       "      <th>3</th>\n",
       "      <td>3</td>\n",
       "      <td>Chamassasya86</td>\n",
       "      <td>24</td>\n",
       "      <td>Male</td>\n",
       "      <td>100</td>\n",
       "      <td>Blindscythe</td>\n",
       "      <td>3.27</td>\n",
       "      <td>20-24</td>\n",
       "    </tr>\n",
       "    <tr>\n",
       "      <th>4</th>\n",
       "      <td>4</td>\n",
       "      <td>Iskosia90</td>\n",
       "      <td>23</td>\n",
       "      <td>Male</td>\n",
       "      <td>131</td>\n",
       "      <td>Fury</td>\n",
       "      <td>1.44</td>\n",
       "      <td>20-24</td>\n",
       "    </tr>\n",
       "  </tbody>\n",
       "</table>\n",
       "</div>"
      ],
      "text/plain": [
       "   Purchase ID             SN  Age Gender  Item ID  \\\n",
       "0            0        Lisim78   20   Male      108   \n",
       "1            1    Lisovynya38   40   Male      143   \n",
       "2            2     Ithergue48   24   Male       92   \n",
       "3            3  Chamassasya86   24   Male      100   \n",
       "4            4      Iskosia90   23   Male      131   \n",
       "\n",
       "                                   Item Name  Price Age Group  \n",
       "0  Extraction, Quickblade Of Trembling Hands   3.53     20-24  \n",
       "1                          Frenzied Scimitar   1.56       40+  \n",
       "2                               Final Critic   4.88     20-24  \n",
       "3                                Blindscythe   3.27     20-24  \n",
       "4                                       Fury   1.44     20-24  "
      ]
     },
     "execution_count": 33,
     "metadata": {},
     "output_type": "execute_result"
    }
   ],
   "source": [
    "purchase_data.head()"
   ]
  },
  {
   "cell_type": "code",
   "execution_count": 34,
   "metadata": {},
   "outputs": [
    {
     "data": {
      "text/html": [
       "<style  type=\"text/css\" >\n",
       "</style>  \n",
       "<table id=\"T_6e237c6c_4b69_11e9_8c30_2816a85c32e4\" > \n",
       "<thead>    <tr> \n",
       "        <th class=\"col_heading level0 col0\" ></th> \n",
       "        <th class=\"col_heading level0 col1\" >Purchase Count</th> \n",
       "        <th class=\"col_heading level0 col2\" >Average Purchase Price</th> \n",
       "        <th class=\"col_heading level0 col3\" >Total Purchase Value</th> \n",
       "        <th class=\"col_heading level0 col4\" >Average Total Purchase per Person</th> \n",
       "    </tr></thead> \n",
       "<tbody>    <tr> \n",
       "        <td id=\"T_6e237c6c_4b69_11e9_8c30_2816a85c32e4row0_col0\" class=\"data row0 col0\" ><10</td> \n",
       "        <td id=\"T_6e237c6c_4b69_11e9_8c30_2816a85c32e4row0_col1\" class=\"data row0 col1\" >23</td> \n",
       "        <td id=\"T_6e237c6c_4b69_11e9_8c30_2816a85c32e4row0_col2\" class=\"data row0 col2\" >$3.35</td> \n",
       "        <td id=\"T_6e237c6c_4b69_11e9_8c30_2816a85c32e4row0_col3\" class=\"data row0 col3\" >$77.13</td> \n",
       "        <td id=\"T_6e237c6c_4b69_11e9_8c30_2816a85c32e4row0_col4\" class=\"data row0 col4\" >$4.54</td> \n",
       "    </tr>    <tr> \n",
       "        <td id=\"T_6e237c6c_4b69_11e9_8c30_2816a85c32e4row1_col0\" class=\"data row1 col0\" >10-14</td> \n",
       "        <td id=\"T_6e237c6c_4b69_11e9_8c30_2816a85c32e4row1_col1\" class=\"data row1 col1\" >28</td> \n",
       "        <td id=\"T_6e237c6c_4b69_11e9_8c30_2816a85c32e4row1_col2\" class=\"data row1 col2\" >$2.96</td> \n",
       "        <td id=\"T_6e237c6c_4b69_11e9_8c30_2816a85c32e4row1_col3\" class=\"data row1 col3\" >$82.78</td> \n",
       "        <td id=\"T_6e237c6c_4b69_11e9_8c30_2816a85c32e4row1_col4\" class=\"data row1 col4\" >$3.76</td> \n",
       "    </tr>    <tr> \n",
       "        <td id=\"T_6e237c6c_4b69_11e9_8c30_2816a85c32e4row2_col0\" class=\"data row2 col0\" >15-19</td> \n",
       "        <td id=\"T_6e237c6c_4b69_11e9_8c30_2816a85c32e4row2_col1\" class=\"data row2 col1\" >136</td> \n",
       "        <td id=\"T_6e237c6c_4b69_11e9_8c30_2816a85c32e4row2_col2\" class=\"data row2 col2\" >$3.04</td> \n",
       "        <td id=\"T_6e237c6c_4b69_11e9_8c30_2816a85c32e4row2_col3\" class=\"data row2 col3\" >$412.89</td> \n",
       "        <td id=\"T_6e237c6c_4b69_11e9_8c30_2816a85c32e4row2_col4\" class=\"data row2 col4\" >$3.86</td> \n",
       "    </tr>    <tr> \n",
       "        <td id=\"T_6e237c6c_4b69_11e9_8c30_2816a85c32e4row3_col0\" class=\"data row3 col0\" >20-24</td> \n",
       "        <td id=\"T_6e237c6c_4b69_11e9_8c30_2816a85c32e4row3_col1\" class=\"data row3 col1\" >365</td> \n",
       "        <td id=\"T_6e237c6c_4b69_11e9_8c30_2816a85c32e4row3_col2\" class=\"data row3 col2\" >$3.05</td> \n",
       "        <td id=\"T_6e237c6c_4b69_11e9_8c30_2816a85c32e4row3_col3\" class=\"data row3 col3\" >$1,114.06</td> \n",
       "        <td id=\"T_6e237c6c_4b69_11e9_8c30_2816a85c32e4row3_col4\" class=\"data row3 col4\" >$4.32</td> \n",
       "    </tr>    <tr> \n",
       "        <td id=\"T_6e237c6c_4b69_11e9_8c30_2816a85c32e4row4_col0\" class=\"data row4 col0\" >25-29</td> \n",
       "        <td id=\"T_6e237c6c_4b69_11e9_8c30_2816a85c32e4row4_col1\" class=\"data row4 col1\" >101</td> \n",
       "        <td id=\"T_6e237c6c_4b69_11e9_8c30_2816a85c32e4row4_col2\" class=\"data row4 col2\" >$2.90</td> \n",
       "        <td id=\"T_6e237c6c_4b69_11e9_8c30_2816a85c32e4row4_col3\" class=\"data row4 col3\" >$293.00</td> \n",
       "        <td id=\"T_6e237c6c_4b69_11e9_8c30_2816a85c32e4row4_col4\" class=\"data row4 col4\" >$3.81</td> \n",
       "    </tr>    <tr> \n",
       "        <td id=\"T_6e237c6c_4b69_11e9_8c30_2816a85c32e4row5_col0\" class=\"data row5 col0\" >30-34</td> \n",
       "        <td id=\"T_6e237c6c_4b69_11e9_8c30_2816a85c32e4row5_col1\" class=\"data row5 col1\" >73</td> \n",
       "        <td id=\"T_6e237c6c_4b69_11e9_8c30_2816a85c32e4row5_col2\" class=\"data row5 col2\" >$2.93</td> \n",
       "        <td id=\"T_6e237c6c_4b69_11e9_8c30_2816a85c32e4row5_col3\" class=\"data row5 col3\" >$214.00</td> \n",
       "        <td id=\"T_6e237c6c_4b69_11e9_8c30_2816a85c32e4row5_col4\" class=\"data row5 col4\" >$4.12</td> \n",
       "    </tr>    <tr> \n",
       "        <td id=\"T_6e237c6c_4b69_11e9_8c30_2816a85c32e4row6_col0\" class=\"data row6 col0\" >35-39</td> \n",
       "        <td id=\"T_6e237c6c_4b69_11e9_8c30_2816a85c32e4row6_col1\" class=\"data row6 col1\" >41</td> \n",
       "        <td id=\"T_6e237c6c_4b69_11e9_8c30_2816a85c32e4row6_col2\" class=\"data row6 col2\" >$3.60</td> \n",
       "        <td id=\"T_6e237c6c_4b69_11e9_8c30_2816a85c32e4row6_col3\" class=\"data row6 col3\" >$147.67</td> \n",
       "        <td id=\"T_6e237c6c_4b69_11e9_8c30_2816a85c32e4row6_col4\" class=\"data row6 col4\" >$4.76</td> \n",
       "    </tr>    <tr> \n",
       "        <td id=\"T_6e237c6c_4b69_11e9_8c30_2816a85c32e4row7_col0\" class=\"data row7 col0\" >40+</td> \n",
       "        <td id=\"T_6e237c6c_4b69_11e9_8c30_2816a85c32e4row7_col1\" class=\"data row7 col1\" >13</td> \n",
       "        <td id=\"T_6e237c6c_4b69_11e9_8c30_2816a85c32e4row7_col2\" class=\"data row7 col2\" >$2.94</td> \n",
       "        <td id=\"T_6e237c6c_4b69_11e9_8c30_2816a85c32e4row7_col3\" class=\"data row7 col3\" >$38.24</td> \n",
       "        <td id=\"T_6e237c6c_4b69_11e9_8c30_2816a85c32e4row7_col4\" class=\"data row7 col4\" >$3.19</td> \n",
       "    </tr></tbody> \n",
       "</table> "
      ],
      "text/plain": [
       "<pandas.io.formats.style.Styler at 0x1faf96210b8>"
      ]
     },
     "execution_count": 34,
     "metadata": {},
     "output_type": "execute_result"
    }
   ],
   "source": [
    "# Count transactions by age and start a new DataFrame\n",
    "purchaseAge = purchase_data.groupby('Age Group').agg({'Purchase ID':'count','Price':['mean','sum']}).reset_index()\n",
    "\n",
    "# Rename the columns to match the example given\n",
    "purchaseAge.columns = ['','Purchase Count','Average Purchase Price','Total Purchase Value']\n",
    "\n",
    "# Calculate the average spent per player\n",
    "purchaseAge['Average Total Purchase per Person'] = purchaseAge['Total Purchase Value'] / age_count['Player Count']\n",
    "\n",
    "# Format and display\n",
    "purchaseAge['Average Purchase Price'] =purchaseAge['Average Purchase Price'].map('${:,.2f}'.format)\n",
    "purchaseAge['Total Purchase Value'] = purchaseAge['Total Purchase Value'].map('${:,.2f}'.format)\n",
    "purchaseAge['Average Total Purchase per Person'] = purchaseAge['Average Total Purchase per Person'].map('${:,.2f}'.format)\n",
    "purchaseAge.style.hide_index()"
   ]
  },
  {
   "cell_type": "code",
   "execution_count": 35,
   "metadata": {},
   "outputs": [],
   "source": [
    "#Top Spenders"
   ]
  },
  {
   "cell_type": "code",
   "execution_count": 36,
   "metadata": {},
   "outputs": [],
   "source": [
    "# Generate the groupby DataFrame\n",
    "topSpenders= purchase_data.groupby('SN').agg({'Purchase ID':'count','Price':['mean','sum']}).reset_index()\n"
   ]
  },
  {
   "cell_type": "code",
   "execution_count": 37,
   "metadata": {},
   "outputs": [
    {
     "data": {
      "text/html": [
       "<div>\n",
       "<style scoped>\n",
       "    .dataframe tbody tr th:only-of-type {\n",
       "        vertical-align: middle;\n",
       "    }\n",
       "\n",
       "    .dataframe tbody tr th {\n",
       "        vertical-align: top;\n",
       "    }\n",
       "\n",
       "    .dataframe thead tr th {\n",
       "        text-align: left;\n",
       "    }\n",
       "</style>\n",
       "<table border=\"1\" class=\"dataframe\">\n",
       "  <thead>\n",
       "    <tr>\n",
       "      <th></th>\n",
       "      <th>SN</th>\n",
       "      <th>Purchase ID</th>\n",
       "      <th colspan=\"2\" halign=\"left\">Price</th>\n",
       "    </tr>\n",
       "    <tr>\n",
       "      <th></th>\n",
       "      <th></th>\n",
       "      <th>count</th>\n",
       "      <th>mean</th>\n",
       "      <th>sum</th>\n",
       "    </tr>\n",
       "  </thead>\n",
       "  <tbody>\n",
       "    <tr>\n",
       "      <th>360</th>\n",
       "      <td>Lisosia93</td>\n",
       "      <td>5</td>\n",
       "      <td>3.792000</td>\n",
       "      <td>18.96</td>\n",
       "    </tr>\n",
       "    <tr>\n",
       "      <th>246</th>\n",
       "      <td>Idastidru52</td>\n",
       "      <td>4</td>\n",
       "      <td>3.862500</td>\n",
       "      <td>15.45</td>\n",
       "    </tr>\n",
       "    <tr>\n",
       "      <th>106</th>\n",
       "      <td>Chamjask73</td>\n",
       "      <td>3</td>\n",
       "      <td>4.610000</td>\n",
       "      <td>13.83</td>\n",
       "    </tr>\n",
       "    <tr>\n",
       "      <th>275</th>\n",
       "      <td>Iral74</td>\n",
       "      <td>4</td>\n",
       "      <td>3.405000</td>\n",
       "      <td>13.62</td>\n",
       "    </tr>\n",
       "    <tr>\n",
       "      <th>281</th>\n",
       "      <td>Iskadarya95</td>\n",
       "      <td>3</td>\n",
       "      <td>4.366667</td>\n",
       "      <td>13.10</td>\n",
       "    </tr>\n",
       "  </tbody>\n",
       "</table>\n",
       "</div>"
      ],
      "text/plain": [
       "              SN Purchase ID     Price       \n",
       "                       count      mean    sum\n",
       "360    Lisosia93           5  3.792000  18.96\n",
       "246  Idastidru52           4  3.862500  15.45\n",
       "106   Chamjask73           3  4.610000  13.83\n",
       "275       Iral74           4  3.405000  13.62\n",
       "281  Iskadarya95           3  4.366667  13.10"
      ]
     },
     "execution_count": 37,
     "metadata": {},
     "output_type": "execute_result"
    }
   ],
   "source": [
    "# Sort and organize  \n",
    "topSpenders= topSpenders.sort_values([('Price','sum')],ascending=False).head(5)\n",
    "topSpenders\n"
   ]
  },
  {
   "cell_type": "code",
   "execution_count": 38,
   "metadata": {},
   "outputs": [
    {
     "data": {
      "text/html": [
       "<style  type=\"text/css\" >\n",
       "</style>  \n",
       "<table id=\"T_6e2cc4c0_4b69_11e9_a138_2816a85c32e4\" > \n",
       "<thead>    <tr> \n",
       "        <th class=\"col_heading level0 col0\" >SN</th> \n",
       "        <th class=\"col_heading level0 col1\" >Purchase Count</th> \n",
       "        <th class=\"col_heading level0 col2\" >Average Purchase Price</th> \n",
       "        <th class=\"col_heading level0 col3\" >Total Purchase Value</th> \n",
       "    </tr></thead> \n",
       "<tbody>    <tr> \n",
       "        <td id=\"T_6e2cc4c0_4b69_11e9_a138_2816a85c32e4row0_col0\" class=\"data row0 col0\" >Lisosia93</td> \n",
       "        <td id=\"T_6e2cc4c0_4b69_11e9_a138_2816a85c32e4row0_col1\" class=\"data row0 col1\" >5</td> \n",
       "        <td id=\"T_6e2cc4c0_4b69_11e9_a138_2816a85c32e4row0_col2\" class=\"data row0 col2\" >3.792</td> \n",
       "        <td id=\"T_6e2cc4c0_4b69_11e9_a138_2816a85c32e4row0_col3\" class=\"data row0 col3\" >18.96</td> \n",
       "    </tr>    <tr> \n",
       "        <td id=\"T_6e2cc4c0_4b69_11e9_a138_2816a85c32e4row1_col0\" class=\"data row1 col0\" >Idastidru52</td> \n",
       "        <td id=\"T_6e2cc4c0_4b69_11e9_a138_2816a85c32e4row1_col1\" class=\"data row1 col1\" >4</td> \n",
       "        <td id=\"T_6e2cc4c0_4b69_11e9_a138_2816a85c32e4row1_col2\" class=\"data row1 col2\" >3.8625</td> \n",
       "        <td id=\"T_6e2cc4c0_4b69_11e9_a138_2816a85c32e4row1_col3\" class=\"data row1 col3\" >15.45</td> \n",
       "    </tr>    <tr> \n",
       "        <td id=\"T_6e2cc4c0_4b69_11e9_a138_2816a85c32e4row2_col0\" class=\"data row2 col0\" >Chamjask73</td> \n",
       "        <td id=\"T_6e2cc4c0_4b69_11e9_a138_2816a85c32e4row2_col1\" class=\"data row2 col1\" >3</td> \n",
       "        <td id=\"T_6e2cc4c0_4b69_11e9_a138_2816a85c32e4row2_col2\" class=\"data row2 col2\" >4.61</td> \n",
       "        <td id=\"T_6e2cc4c0_4b69_11e9_a138_2816a85c32e4row2_col3\" class=\"data row2 col3\" >13.83</td> \n",
       "    </tr>    <tr> \n",
       "        <td id=\"T_6e2cc4c0_4b69_11e9_a138_2816a85c32e4row3_col0\" class=\"data row3 col0\" >Iral74</td> \n",
       "        <td id=\"T_6e2cc4c0_4b69_11e9_a138_2816a85c32e4row3_col1\" class=\"data row3 col1\" >4</td> \n",
       "        <td id=\"T_6e2cc4c0_4b69_11e9_a138_2816a85c32e4row3_col2\" class=\"data row3 col2\" >3.405</td> \n",
       "        <td id=\"T_6e2cc4c0_4b69_11e9_a138_2816a85c32e4row3_col3\" class=\"data row3 col3\" >13.62</td> \n",
       "    </tr>    <tr> \n",
       "        <td id=\"T_6e2cc4c0_4b69_11e9_a138_2816a85c32e4row4_col0\" class=\"data row4 col0\" >Iskadarya95</td> \n",
       "        <td id=\"T_6e2cc4c0_4b69_11e9_a138_2816a85c32e4row4_col1\" class=\"data row4 col1\" >3</td> \n",
       "        <td id=\"T_6e2cc4c0_4b69_11e9_a138_2816a85c32e4row4_col2\" class=\"data row4 col2\" >4.36667</td> \n",
       "        <td id=\"T_6e2cc4c0_4b69_11e9_a138_2816a85c32e4row4_col3\" class=\"data row4 col3\" >13.1</td> \n",
       "    </tr></tbody> \n",
       "</table> "
      ],
      "text/plain": [
       "<pandas.io.formats.style.Styler at 0x1faf96177b8>"
      ]
     },
     "execution_count": 38,
     "metadata": {},
     "output_type": "execute_result"
    }
   ],
   "source": [
    "# Rename the columns to match the example given\n",
    "topSpenders.columns = ['SN','Purchase Count','Average Purchase Price','Total Purchase Value']\n",
    "topSpenders.style.hide_index()\n"
   ]
  },
  {
   "cell_type": "code",
   "execution_count": 39,
   "metadata": {},
   "outputs": [],
   "source": [
    "#Most Popular Items "
   ]
  },
  {
   "cell_type": "code",
   "execution_count": 40,
   "metadata": {},
   "outputs": [],
   "source": [
    "# Generate the groupby DataFrame\n",
    "Pop_Items = purchase_data.groupby('Item ID').agg({'Item Name':'first','Purchase ID':'count','Price':['mean','sum']})\n"
   ]
  },
  {
   "cell_type": "code",
   "execution_count": 41,
   "metadata": {
    "scrolled": false
   },
   "outputs": [],
   "source": [
    "# Sort and organize  \n",
    "Pop_Items = Pop_Items.sort_values([('Purchase ID', 'count')],ascending=False).head(5)\n"
   ]
  },
  {
   "cell_type": "code",
   "execution_count": 42,
   "metadata": {},
   "outputs": [
    {
     "data": {
      "text/html": [
       "<div>\n",
       "<style scoped>\n",
       "    .dataframe tbody tr th:only-of-type {\n",
       "        vertical-align: middle;\n",
       "    }\n",
       "\n",
       "    .dataframe tbody tr th {\n",
       "        vertical-align: top;\n",
       "    }\n",
       "\n",
       "    .dataframe thead th {\n",
       "        text-align: right;\n",
       "    }\n",
       "</style>\n",
       "<table border=\"1\" class=\"dataframe\">\n",
       "  <thead>\n",
       "    <tr style=\"text-align: right;\">\n",
       "      <th></th>\n",
       "      <th>Item Name</th>\n",
       "      <th>Purchase Count</th>\n",
       "      <th>Average Purchase Price</th>\n",
       "      <th>Total Purchase Value</th>\n",
       "    </tr>\n",
       "    <tr>\n",
       "      <th>Item ID</th>\n",
       "      <th></th>\n",
       "      <th></th>\n",
       "      <th></th>\n",
       "      <th></th>\n",
       "    </tr>\n",
       "  </thead>\n",
       "  <tbody>\n",
       "    <tr>\n",
       "      <th>178</th>\n",
       "      <td>Oathbreaker, Last Hope of the Breaking Storm</td>\n",
       "      <td>12</td>\n",
       "      <td>4.23</td>\n",
       "      <td>50.76</td>\n",
       "    </tr>\n",
       "    <tr>\n",
       "      <th>145</th>\n",
       "      <td>Fiery Glass Crusader</td>\n",
       "      <td>9</td>\n",
       "      <td>4.58</td>\n",
       "      <td>41.22</td>\n",
       "    </tr>\n",
       "    <tr>\n",
       "      <th>108</th>\n",
       "      <td>Extraction, Quickblade Of Trembling Hands</td>\n",
       "      <td>9</td>\n",
       "      <td>3.53</td>\n",
       "      <td>31.77</td>\n",
       "    </tr>\n",
       "    <tr>\n",
       "      <th>82</th>\n",
       "      <td>Nirvana</td>\n",
       "      <td>9</td>\n",
       "      <td>4.90</td>\n",
       "      <td>44.10</td>\n",
       "    </tr>\n",
       "    <tr>\n",
       "      <th>19</th>\n",
       "      <td>Pursuit, Cudgel of Necromancy</td>\n",
       "      <td>8</td>\n",
       "      <td>1.02</td>\n",
       "      <td>8.16</td>\n",
       "    </tr>\n",
       "  </tbody>\n",
       "</table>\n",
       "</div>"
      ],
      "text/plain": [
       "                                            Item Name  Purchase Count  \\\n",
       "Item ID                                                                 \n",
       "178      Oathbreaker, Last Hope of the Breaking Storm              12   \n",
       "145                              Fiery Glass Crusader               9   \n",
       "108         Extraction, Quickblade Of Trembling Hands               9   \n",
       "82                                            Nirvana               9   \n",
       "19                      Pursuit, Cudgel of Necromancy               8   \n",
       "\n",
       "         Average Purchase Price  Total Purchase Value  \n",
       "Item ID                                                \n",
       "178                        4.23                 50.76  \n",
       "145                        4.58                 41.22  \n",
       "108                        3.53                 31.77  \n",
       "82                         4.90                 44.10  \n",
       "19                         1.02                  8.16  "
      ]
     },
     "execution_count": 42,
     "metadata": {},
     "output_type": "execute_result"
    }
   ],
   "source": [
    "# Rename the columns to match the example given\n",
    "Pop_Items.columns = ['Item Name','Purchase Count','Average Purchase Price','Total Purchase Value']\n",
    "Pop_Items\n"
   ]
  },
  {
   "cell_type": "code",
   "execution_count": 43,
   "metadata": {},
   "outputs": [],
   "source": [
    "#Most Profitable Items "
   ]
  },
  {
   "cell_type": "code",
   "execution_count": 44,
   "metadata": {
    "scrolled": true
   },
   "outputs": [],
   "source": [
    "Prof_Items = purchase_data.groupby('Item ID').agg({'Item Name':'first','Purchase ID':'count','Price':['mean','sum']}).reset_index()\n"
   ]
  },
  {
   "cell_type": "code",
   "execution_count": 45,
   "metadata": {
    "scrolled": true
   },
   "outputs": [],
   "source": [
    "Prof_Items = Prof_Items.sort_values([('Price','sum')],ascending=False).head(5)\n"
   ]
  },
  {
   "cell_type": "code",
   "execution_count": 46,
   "metadata": {},
   "outputs": [
    {
     "data": {
      "text/html": [
       "<style  type=\"text/css\" >\n",
       "</style>  \n",
       "<table id=\"T_6e3ff18a_4b69_11e9_8f15_2816a85c32e4\" > \n",
       "<thead>    <tr> \n",
       "        <th class=\"col_heading level0 col0\" >Item ID</th> \n",
       "        <th class=\"col_heading level0 col1\" >Item Name</th> \n",
       "        <th class=\"col_heading level0 col2\" >Purchase Count</th> \n",
       "        <th class=\"col_heading level0 col3\" >Average Purchase Price</th> \n",
       "        <th class=\"col_heading level0 col4\" >Total Purchase Value</th> \n",
       "    </tr></thead> \n",
       "<tbody>    <tr> \n",
       "        <td id=\"T_6e3ff18a_4b69_11e9_8f15_2816a85c32e4row0_col0\" class=\"data row0 col0\" >178</td> \n",
       "        <td id=\"T_6e3ff18a_4b69_11e9_8f15_2816a85c32e4row0_col1\" class=\"data row0 col1\" >Oathbreaker, Last Hope of the Breaking Storm</td> \n",
       "        <td id=\"T_6e3ff18a_4b69_11e9_8f15_2816a85c32e4row0_col2\" class=\"data row0 col2\" >12</td> \n",
       "        <td id=\"T_6e3ff18a_4b69_11e9_8f15_2816a85c32e4row0_col3\" class=\"data row0 col3\" >4.23</td> \n",
       "        <td id=\"T_6e3ff18a_4b69_11e9_8f15_2816a85c32e4row0_col4\" class=\"data row0 col4\" >50.76</td> \n",
       "    </tr>    <tr> \n",
       "        <td id=\"T_6e3ff18a_4b69_11e9_8f15_2816a85c32e4row1_col0\" class=\"data row1 col0\" >82</td> \n",
       "        <td id=\"T_6e3ff18a_4b69_11e9_8f15_2816a85c32e4row1_col1\" class=\"data row1 col1\" >Nirvana</td> \n",
       "        <td id=\"T_6e3ff18a_4b69_11e9_8f15_2816a85c32e4row1_col2\" class=\"data row1 col2\" >9</td> \n",
       "        <td id=\"T_6e3ff18a_4b69_11e9_8f15_2816a85c32e4row1_col3\" class=\"data row1 col3\" >4.9</td> \n",
       "        <td id=\"T_6e3ff18a_4b69_11e9_8f15_2816a85c32e4row1_col4\" class=\"data row1 col4\" >44.1</td> \n",
       "    </tr>    <tr> \n",
       "        <td id=\"T_6e3ff18a_4b69_11e9_8f15_2816a85c32e4row2_col0\" class=\"data row2 col0\" >145</td> \n",
       "        <td id=\"T_6e3ff18a_4b69_11e9_8f15_2816a85c32e4row2_col1\" class=\"data row2 col1\" >Fiery Glass Crusader</td> \n",
       "        <td id=\"T_6e3ff18a_4b69_11e9_8f15_2816a85c32e4row2_col2\" class=\"data row2 col2\" >9</td> \n",
       "        <td id=\"T_6e3ff18a_4b69_11e9_8f15_2816a85c32e4row2_col3\" class=\"data row2 col3\" >4.58</td> \n",
       "        <td id=\"T_6e3ff18a_4b69_11e9_8f15_2816a85c32e4row2_col4\" class=\"data row2 col4\" >41.22</td> \n",
       "    </tr>    <tr> \n",
       "        <td id=\"T_6e3ff18a_4b69_11e9_8f15_2816a85c32e4row3_col0\" class=\"data row3 col0\" >92</td> \n",
       "        <td id=\"T_6e3ff18a_4b69_11e9_8f15_2816a85c32e4row3_col1\" class=\"data row3 col1\" >Final Critic</td> \n",
       "        <td id=\"T_6e3ff18a_4b69_11e9_8f15_2816a85c32e4row3_col2\" class=\"data row3 col2\" >8</td> \n",
       "        <td id=\"T_6e3ff18a_4b69_11e9_8f15_2816a85c32e4row3_col3\" class=\"data row3 col3\" >4.88</td> \n",
       "        <td id=\"T_6e3ff18a_4b69_11e9_8f15_2816a85c32e4row3_col4\" class=\"data row3 col4\" >39.04</td> \n",
       "    </tr>    <tr> \n",
       "        <td id=\"T_6e3ff18a_4b69_11e9_8f15_2816a85c32e4row4_col0\" class=\"data row4 col0\" >103</td> \n",
       "        <td id=\"T_6e3ff18a_4b69_11e9_8f15_2816a85c32e4row4_col1\" class=\"data row4 col1\" >Singed Scalpel</td> \n",
       "        <td id=\"T_6e3ff18a_4b69_11e9_8f15_2816a85c32e4row4_col2\" class=\"data row4 col2\" >8</td> \n",
       "        <td id=\"T_6e3ff18a_4b69_11e9_8f15_2816a85c32e4row4_col3\" class=\"data row4 col3\" >4.35</td> \n",
       "        <td id=\"T_6e3ff18a_4b69_11e9_8f15_2816a85c32e4row4_col4\" class=\"data row4 col4\" >34.8</td> \n",
       "    </tr></tbody> \n",
       "</table> "
      ],
      "text/plain": [
       "<pandas.io.formats.style.Styler at 0x1fafa35f320>"
      ]
     },
     "execution_count": 46,
     "metadata": {},
     "output_type": "execute_result"
    }
   ],
   "source": [
    "# Rename the columns to match the example given\n",
    "Prof_Items.columns = ['Item ID','Item Name','Purchase Count','Average Purchase Price','Total Purchase Value']\n",
    "Prof_Items.style.hide_index()"
   ]
  }
 ],
 "metadata": {
  "kernelspec": {
   "display_name": "Python 3",
   "language": "python",
   "name": "python3"
  },
  "language_info": {
   "codemirror_mode": {
    "name": "ipython",
    "version": 3
   },
   "file_extension": ".py",
   "mimetype": "text/x-python",
   "name": "python",
   "nbconvert_exporter": "python",
   "pygments_lexer": "ipython3",
   "version": "3.7.1"
  }
 },
 "nbformat": 4,
 "nbformat_minor": 2
}
